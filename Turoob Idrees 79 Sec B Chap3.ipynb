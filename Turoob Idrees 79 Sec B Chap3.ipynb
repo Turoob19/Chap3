{
 "cells": [
  {
   "cell_type": "markdown",
   "metadata": {},
   "source": [
    "# problem 3.24"
   ]
  },
  {
   "cell_type": "code",
   "execution_count": 82,
   "metadata": {},
   "outputs": [
    {
     "name": "stdout",
     "output_type": "stream",
     "text": [
      "see\tread\t\n",
      "look\t\n"
     ]
    }
   ],
   "source": [
    "words=['see','read','secret','look','secret']\n",
    "for i in words:\n",
    "    if i!='secret':\n",
    "        print(i,end='\\t')\n",
    "    else:\n",
    "        print()"
   ]
  },
  {
   "cell_type": "markdown",
   "metadata": {},
   "source": [
    "# problem 3.25"
   ]
  },
  {
   "cell_type": "code",
   "execution_count": 37,
   "metadata": {},
   "outputs": [
    {
     "name": "stdout",
     "output_type": "stream",
     "text": [
      "Ellie\n",
      "Gavin\n"
     ]
    }
   ],
   "source": [
    "names=['Ellie', 'Steve', 'Sam', 'Owen', 'Gavin']\n",
    "for word in names:\n",
    "    if word[0] >= \"A\" and word[0] <= \"M\":\n",
    "        print(word)"
   ]
  },
  {
   "cell_type": "markdown",
   "metadata": {},
   "source": [
    "# problem 3.26"
   ]
  },
  {
   "cell_type": "code",
   "execution_count": 2,
   "metadata": {},
   "outputs": [
    {
     "name": "stdout",
     "output_type": "stream",
     "text": [
      "2\n",
      "9\n"
     ]
    }
   ],
   "source": [
    "lst=[2,6,7,5,4,8,9]\n",
    "print(lst[0])\n",
    "print(lst[-1])"
   ]
  },
  {
   "cell_type": "markdown",
   "metadata": {},
   "source": [
    "# problem 3.27"
   ]
  },
  {
   "cell_type": "code",
   "execution_count": 4,
   "metadata": {},
   "outputs": [
    {
     "name": "stdout",
     "output_type": "stream",
     "text": [
      "enter integer: 5\n",
      "0\t5\t10\t15\t20\t25\t30\t35\t40\t45\t50\t"
     ]
    }
   ],
   "source": [
    "integer=int(input(\"enter integer: \"))\n",
    "for i in range(0,11):\n",
    "    k=i*integer\n",
    "    print(k,end='\\t')"
   ]
  },
  {
   "cell_type": "markdown",
   "metadata": {},
   "source": [
    "# problem 3.28"
   ]
  },
  {
   "cell_type": "code",
   "execution_count": 19,
   "metadata": {},
   "outputs": [
    {
     "name": "stdout",
     "output_type": "stream",
     "text": [
      "enter integer: 5\n",
      "0\t1\t4\t9\t16\t\n",
      "36\t49\t64\t81\t100\t"
     ]
    }
   ],
   "source": [
    "integer=int(input(\"enter integer: \"))\n",
    "for i in range(0,11):\n",
    "    if i*i==25(:\n",
    "        print()\n",
    "    else:\n",
    "        l=i*i\n",
    "        print(l,end='\\t'))"
   ]
  },
  {
   "cell_type": "markdown",
   "metadata": {},
   "source": [
    "# problem 3.29"
   ]
  },
  {
   "cell_type": "code",
   "execution_count": 38,
   "metadata": {},
   "outputs": [
    {
     "name": "stdout",
     "output_type": "stream",
     "text": [
      "enter integer: 5\n",
      "0\t\n",
      "\n",
      "\n",
      "\n",
      "5\t\n",
      "\n",
      "\n",
      "\n",
      "10\t\n",
      "\n",
      "\n",
      "\n",
      "15\t\n",
      "\n",
      "\n",
      "\n"
     ]
    }
   ],
   "source": [
    "integer=int(input(\"enter integer: \"))\n",
    "for i in range(0,20):\n",
    "    if i%integer==0:\n",
    "        print(i,end='\\t')\n",
    "    else:\n",
    "        print()"
   ]
  },
  {
   "cell_type": "markdown",
   "metadata": {},
   "source": [
    "# problem 3.30"
   ]
  },
  {
   "cell_type": "code",
   "execution_count": 13,
   "metadata": {},
   "outputs": [
    {
     "name": "stdout",
     "output_type": "stream",
     "text": [
      "enter first number: 4.5\n",
      "enter second number: 3\n",
      "enter third number: 3\n",
      "enter fourth number: 3.5\n",
      "equal\n"
     ]
    }
   ],
   "source": [
    "n1=eval(input(\"enter first number: \"))\n",
    "n2=eval(input(\"enter second number: \"))\n",
    "n3=eval(input(\"enter third number: \"))\n",
    "n4= eval(input(\"enter fourth number: \"))\n",
    "l=(n1+n2+n3)/3\n",
    "if l==n4:\n",
    "    print(\"equal\")\n",
    "else:\n",
    "    print(\"not equal\")"
   ]
  },
  {
   "cell_type": "markdown",
   "metadata": {},
   "source": [
    "# problem 3.31"
   ]
  },
  {
   "cell_type": "code",
   "execution_count": 5,
   "metadata": {},
   "outputs": [
    {
     "name": "stdout",
     "output_type": "stream",
     "text": [
      "enter coordinate of x: 5\n",
      "enter coordinate of y: 6\n",
      "it is in!\n"
     ]
    }
   ],
   "source": [
    "from math import sqrt \n",
    "R=8\n",
    "x=0\n",
    "y=0\n",
    "x1=eval(input(\"enter coordinate of x: \"))\n",
    "y1=eval(input(\"enter coordinate of y: \"))\n",
    "x1==(-10,10)\n",
    "y1==(-10,10)\n",
    "D = sqrt((x1 - x)^2 + (y1 - y)^2)\n",
    "if D<=R:\n",
    "    print(\"it is in!\")\n",
    "else:\n",
    "    print(\"out!\")"
   ]
  },
  {
   "cell_type": "markdown",
   "metadata": {},
   "source": [
    "# problem 3.32"
   ]
  },
  {
   "cell_type": "code",
   "execution_count": 6,
   "metadata": {},
   "outputs": [
    {
     "name": "stdout",
     "output_type": "stream",
     "text": [
      "17.0\n",
      "68\n",
      "32\n",
      "0\n"
     ]
    }
   ],
   "source": [
    "in_t=34\n",
    "print(in_t/2)\n",
    "print(in_t*2)\n",
    "print(in_t-2)\n",
    "print(in_t%2)"
   ]
  },
  {
   "cell_type": "markdown",
   "metadata": {},
   "source": [
    "# problem 3.33"
   ]
  },
  {
   "cell_type": "code",
   "execution_count": 11,
   "metadata": {},
   "outputs": [
    {
     "name": "stdout",
     "output_type": "stream",
     "text": [
      "tes\n"
     ]
    }
   ],
   "source": [
    "def reverse_string(my_str):\n",
    "    print(''.join(reversed(my_str)))\n",
    "reverse_string(\"set\")"
   ]
  },
  {
   "cell_type": "markdown",
   "metadata": {},
   "source": [
    "# problem 3.34"
   ]
  },
  {
   "cell_type": "code",
   "execution_count": 12,
   "metadata": {},
   "outputs": [
    {
     "name": "stdout",
     "output_type": "stream",
     "text": [
      "675.0\n"
     ]
    }
   ],
   "source": [
    "def pay(wage,hours):\n",
    "    if hours>40:\n",
    "        print(wage*1.5*hours)\n",
    "    else:\n",
    "        print(wage*hours)\n",
    "pay(10,45)"
   ]
  },
  {
   "cell_type": "markdown",
   "metadata": {},
   "source": [
    "# problem 3.35"
   ]
  },
  {
   "cell_type": "code",
   "execution_count": 13,
   "metadata": {},
   "outputs": [
    {
     "data": {
      "text/plain": [
       "0.25"
      ]
     },
     "execution_count": 13,
     "metadata": {},
     "output_type": "execute_result"
    }
   ],
   "source": [
    "def prob(n):\n",
    "    return 2**(-n)\n",
    "prob(2)"
   ]
  },
  {
   "cell_type": "markdown",
   "metadata": {},
   "source": [
    "# problem 3.36"
   ]
  },
  {
   "cell_type": "code",
   "execution_count": 78,
   "metadata": {},
   "outputs": [
    {
     "name": "stdout",
     "output_type": "stream",
     "text": [
      "\n",
      " Reverse of entered number is = 4\n",
      "\n",
      " Reverse of entered number is = 43\n",
      "\n",
      " Reverse of entered number is = 432\n",
      "\n",
      " Reverse of entered number is = 4321\n"
     ]
    }
   ],
   "source": [
    "def in_t(integer):\n",
    "    Reverse = 0    \n",
    "    while(integer > 0):    \n",
    "        Reminder = integer %10   \n",
    "        Reverse = (Reverse *10) + Reminder    \n",
    "        integer = integer //10    \n",
    "        print(\"\\n Reverse of entered number is = %d\" %Reverse) \n",
    "in_t(1234)"
   ]
  },
  {
   "cell_type": "markdown",
   "metadata": {},
   "source": [
    "# problem 3.37"
   ]
  },
  {
   "cell_type": "code",
   "execution_count": 20,
   "metadata": {},
   "outputs": [
    {
     "name": "stdout",
     "output_type": "stream",
     "text": [
      "The slope is -4.4 the distance is 4.123105625617661\n"
     ]
    }
   ],
   "source": [
    "from math import sqrt\n",
    "def points(x1,x2,y1,y2):\n",
    "    slope=y2-y1/x2-x1\n",
    "    D=sqrt((x2-x1)**2 + (y2-y1)**2)\n",
    "    print(\"The slope is\",slope,\"the distance is\",D)\n",
    "points(6,5,7,3)"
   ]
  },
  {
   "cell_type": "markdown",
   "metadata": {},
   "source": [
    "# problem 3.38"
   ]
  },
  {
   "cell_type": "code",
   "execution_count": 36,
   "metadata": {},
   "outputs": [
    {
     "name": "stdout",
     "output_type": "stream",
     "text": [
      "tu\n"
     ]
    }
   ],
   "source": [
    "def abbreviation(day):\n",
    "    print(''.join(day[0:2]))\n",
    "abbreviation(\"tuesday\")"
   ]
  },
  {
   "cell_type": "markdown",
   "metadata": {},
   "source": [
    "# problem 3.39"
   ]
  },
  {
   "cell_type": "code",
   "execution_count": 39,
   "metadata": {},
   "outputs": [
    {
     "name": "stdout",
     "output_type": "stream",
     "text": [
      "true\n"
     ]
    }
   ],
   "source": [
    "from math import sqrt\n",
    "def collision(x1,y1,r1,x2,y2,r2):\n",
    "        if sqrt(sqrt(x2-x1)+sqrt(y2-y1))<=r1+r2:\n",
    "            print(\"true\")\n",
    "        else:\n",
    "            print(\"false\")\n",
    "collision(0,0,3,0,5,3)"
   ]
  },
  {
   "cell_type": "markdown",
   "metadata": {},
   "source": [
    "# problem 3.40"
   ]
  },
  {
   "cell_type": "code",
   "execution_count": 35,
   "metadata": {},
   "outputs": [
    {
     "name": "stdout",
     "output_type": "stream",
     "text": [
      "Eleanor\n",
      "Evelyn\n",
      "Gavin\n"
     ]
    }
   ],
   "source": [
    "def partition(names):\n",
    "    for word in names:\n",
    "        if word[0] >= \"A\" and word[0] <= \"M\":\n",
    "            print(word)\n",
    "partition(['Eleanor', 'Evelyn', 'Sammy', 'Owen', 'Gavin'])"
   ]
  },
  {
   "cell_type": "markdown",
   "metadata": {},
   "source": [
    "# problem 3.41"
   ]
  },
  {
   "cell_type": "code",
   "execution_count": 62,
   "metadata": {},
   "outputs": [
    {
     "name": "stdout",
     "output_type": "stream",
     "text": [
      "Idrees T\n"
     ]
    }
   ],
   "source": [
    "def lastF(firstname,lastname):\n",
    "    print((lastname),firstname[0])\n",
    "lastF('Turoob','Idrees')"
   ]
  },
  {
   "cell_type": "markdown",
   "metadata": {},
   "source": [
    "# problem 3.42"
   ]
  },
  {
   "cell_type": "code",
   "execution_count": 72,
   "metadata": {},
   "outputs": [
    {
     "name": "stdout",
     "output_type": "stream",
     "text": [
      "23.75\t23.0\t21.5\t21.75\t16.5\t13.5\t22.25\t18.0\t25.0\t8.25\t0.0\t0.0\t"
     ]
    }
   ],
   "source": [
    "def avg(nums):\n",
    "    for i in nums:\n",
    "        for k in i:\n",
    "            per=(k/400)*100\n",
    "            print(per,end='\\t')\n",
    "avg([[95, 92, 86, 87], [66, 54], [89, 72, 100], [33, 0, 0]])"
   ]
  },
  {
   "cell_type": "markdown",
   "metadata": {},
   "source": [
    "# problem 3.43"
   ]
  },
  {
   "cell_type": "code",
   "execution_count": 73,
   "metadata": {},
   "outputs": [
    {
     "name": "stdout",
     "output_type": "stream",
     "text": [
      "true\n"
     ]
    }
   ],
   "source": [
    "def hit(xc,yc,r,xp,yp):\n",
    "    D=sqrt((xp-xc)**2 +(yp-yc)**2)\n",
    "    if D<r or D==r:\n",
    "        print(\"true\")\n",
    "    else:\n",
    "        print(\"false\")\n",
    "hit(0,0,3,3,0)"
   ]
  },
  {
   "cell_type": "markdown",
   "metadata": {},
   "source": [
    "# problem 3.44"
   ]
  },
  {
   "cell_type": "code",
   "execution_count": 76,
   "metadata": {},
   "outputs": [
    {
     "name": "stdout",
     "output_type": "stream",
     "text": [
      "1.0208700000000002\n"
     ]
    }
   ],
   "source": [
    "def distance(velocity,time):\n",
    "    D=velocity*time\n",
    "    d=D/1000\n",
    "    print(d)\n",
    "distance(340.29,3)"
   ]
  },
  {
   "cell_type": "markdown",
   "metadata": {},
   "source": [
    "# Exercises"
   ]
  },
  {
   "cell_type": "markdown",
   "metadata": {},
   "source": [
    "# 3.1"
   ]
  },
  {
   "cell_type": "code",
   "execution_count": 1,
   "metadata": {},
   "outputs": [
    {
     "name": "stdout",
     "output_type": "stream",
     "text": [
      "Enter the temperature in degrees Fahrenheit: 65\n",
      "The temperature in degrees Celsius is 18.333333333333336\n"
     ]
    }
   ],
   "source": [
    "fahrenheit = eval(input( 'Enter the temperature in degrees Fahrenheit: ' ))\n",
    "print( 'The temperature in degrees Celsius is' , (5/9)*(fahrenheit - 32))"
   ]
  },
  {
   "cell_type": "markdown",
   "metadata": {},
   "source": [
    "# 3.2"
   ]
  },
  {
   "cell_type": "code",
   "execution_count": 4,
   "metadata": {},
   "outputs": [
    {
     "name": "stdout",
     "output_type": "stream",
     "text": [
      "enter the age:6\n",
      "one of the top 5 baseball player ever!\n",
      "enter the no of hits:12\n",
      "enter the sheild:0\n",
      "You are dead...\n",
      "i can escape\n"
     ]
    }
   ],
   "source": [
    "#a\n",
    "age=eval(input(\"enter the age:\"))\n",
    "if age>62:\n",
    "    print(\"you can get your pension benefits\")\n",
    "\n",
    "    \n",
    "#b\n",
    "list=['Musial', 'Aaraon', 'Williams', 'Gehrig', 'Ruth']\n",
    "if 'Musial'in list:\n",
    "    print(\"one of the top 5 baseball player ever!\")\n",
    "    \n",
    "    \n",
    "#c\n",
    "hits=eval(input(\"enter the no of hits:\"))\n",
    "sheild=eval(input(\"enter the sheild:\"))\n",
    "if hits>10 and sheild is 0:\n",
    "    print(\"You are dead...\")\n",
    "    \n",
    "    \n",
    "#d\n",
    "bool=['north','south','east','west']\n",
    "if 'north' in bool:\n",
    "    print(\"i can escape\")\n"
   ]
  },
  {
   "cell_type": "markdown",
   "metadata": {},
   "source": [
    "# 3.3"
   ]
  },
  {
   "cell_type": "code",
   "execution_count": 5,
   "metadata": {},
   "outputs": [
    {
     "name": "stdout",
     "output_type": "stream",
     "text": [
      "enter the year:2019\n",
      "could be a leap year\n"
     ]
    }
   ],
   "source": [
    "year=eval(input(\"enter the year:\"))\n",
    "if year%4:\n",
    "    print('could be a leap year')\n",
    "else:\n",
    "    print('better luck next time')\n",
    "    "
   ]
  },
  {
   "cell_type": "markdown",
   "metadata": {},
   "source": [
    "# 3.4"
   ]
  },
  {
   "cell_type": "code",
   "execution_count": 7,
   "metadata": {},
   "outputs": [
    {
     "name": "stdout",
     "output_type": "stream",
     "text": [
      "enter the login id:hani\n",
      "you are a valid user\n",
      "done\n"
     ]
    }
   ],
   "source": [
    "login= input(\"enter the login id:\")\n",
    "list=['joe', 'sue', 'hani', 'sophie']\n",
    "if login in list:\n",
    "    print('you are a valid user')\n",
    "else:\n",
    "    print('user unknown')\n",
    "print('done')"
   ]
  },
  {
   "cell_type": "markdown",
   "metadata": {},
   "source": [
    "# 3.5"
   ]
  },
  {
   "cell_type": "code",
   "execution_count": 1,
   "metadata": {},
   "outputs": [
    {
     "name": "stdout",
     "output_type": "stream",
     "text": [
      "Enter word list: 'stop','desktop','delete','print'\n",
      "stop\t"
     ]
    }
   ],
   "source": [
    "word_list =eval(input(\"Enter word list: \"))\n",
    "for word in word_list:\n",
    "    if len(word) == 4:\n",
    "        print(word,end='\\t') "
   ]
  },
  {
   "cell_type": "markdown",
   "metadata": {},
   "source": [
    "# 3.6"
   ]
  },
  {
   "cell_type": "code",
   "execution_count": 3,
   "metadata": {},
   "outputs": [
    {
     "name": "stdout",
     "output_type": "stream",
     "text": [
      "0\t1\t2\t3\t4\t5\t6\t7\t8\t9\t"
     ]
    }
   ],
   "source": [
    "for i in range(10):\n",
    "    print(i,end='\\t')"
   ]
  },
  {
   "cell_type": "code",
   "execution_count": 4,
   "metadata": {},
   "outputs": [
    {
     "name": "stdout",
     "output_type": "stream",
     "text": [
      "0\n",
      "1\n"
     ]
    }
   ],
   "source": [
    "for i in range(2):\n",
    "    print(i)"
   ]
  },
  {
   "cell_type": "markdown",
   "metadata": {},
   "source": [
    "# 3.7"
   ]
  },
  {
   "cell_type": "code",
   "execution_count": 5,
   "metadata": {},
   "outputs": [
    {
     "name": "stdout",
     "output_type": "stream",
     "text": [
      "3\t4\t5\t6\t7\t8\t9\t10\t11\t12\t"
     ]
    }
   ],
   "source": [
    "for i in range(3 ,13):\n",
    "    print(i,end='\\t')"
   ]
  },
  {
   "cell_type": "code",
   "execution_count": 6,
   "metadata": {},
   "outputs": [
    {
     "name": "stdout",
     "output_type": "stream",
     "text": [
      "0\t2\t4\t6\t8\t"
     ]
    }
   ],
   "source": [
    "for i in range(0, 10, 2):\n",
    "    print(i,end='\\t')"
   ]
  },
  {
   "cell_type": "code",
   "execution_count": 7,
   "metadata": {},
   "outputs": [
    {
     "name": "stdout",
     "output_type": "stream",
     "text": [
      "0\t3\t6\t9\t12\t15\t18\t21\t"
     ]
    }
   ],
   "source": [
    "for i in range(0 , 24, 3):\n",
    "    print(i,end='\\t')"
   ]
  },
  {
   "cell_type": "code",
   "execution_count": 8,
   "metadata": {},
   "outputs": [
    {
     "name": "stdout",
     "output_type": "stream",
     "text": [
      "3\n",
      "8\n"
     ]
    }
   ],
   "source": [
    "for i in range(3 ,12 , 5):\n",
    "    print(i)"
   ]
  },
  {
   "cell_type": "markdown",
   "metadata": {},
   "source": [
    "# 3.8"
   ]
  },
  {
   "cell_type": "code",
   "execution_count": 14,
   "metadata": {},
   "outputs": [
    {
     "data": {
      "text/plain": [
       "6.283185307179586"
      ]
     },
     "execution_count": 14,
     "metadata": {},
     "output_type": "execute_result"
    }
   ],
   "source": [
    "from math import *\n",
    "def perimeter(r):\n",
    "    return 2*pi*r\n",
    "perimeter(1)"
   ]
  },
  {
   "cell_type": "code",
   "execution_count": 15,
   "metadata": {},
   "outputs": [
    {
     "data": {
      "text/plain": [
       "12.566370614359172"
      ]
     },
     "execution_count": 15,
     "metadata": {},
     "output_type": "execute_result"
    }
   ],
   "source": [
    "perimeter(2)"
   ]
  },
  {
   "cell_type": "markdown",
   "metadata": {},
   "source": [
    "# 3.9"
   ]
  },
  {
   "cell_type": "code",
   "execution_count": 16,
   "metadata": {},
   "outputs": [
    {
     "data": {
      "text/plain": [
       "2.5"
      ]
     },
     "execution_count": 16,
     "metadata": {},
     "output_type": "execute_result"
    }
   ],
   "source": [
    "def average(x,y):\n",
    "#it will return average of two values\n",
    "    return (x+y)/2\n",
    "average(2,3)"
   ]
  },
  {
   "cell_type": "code",
   "execution_count": 17,
   "metadata": {},
   "outputs": [
    {
     "data": {
      "text/plain": [
       "16.5"
      ]
     },
     "execution_count": 17,
     "metadata": {},
     "output_type": "execute_result"
    }
   ],
   "source": [
    "average(25,8)"
   ]
  },
  {
   "cell_type": "markdown",
   "metadata": {},
   "source": [
    "# 3.10"
   ]
  },
  {
   "cell_type": "code",
   "execution_count": 18,
   "metadata": {},
   "outputs": [
    {
     "data": {
      "text/plain": [
       "True"
      ]
     },
     "execution_count": 18,
     "metadata": {},
     "output_type": "execute_result"
    }
   ],
   "source": [
    "def allEven(list_num):\n",
    "    for num in list_num:\n",
    "        if num %2 != 0:\n",
    "            return False\n",
    "    return True\n",
    "allEven([8, 0 , -2, 4, -6, 10])"
   ]
  },
  {
   "cell_type": "code",
   "execution_count": 19,
   "metadata": {},
   "outputs": [
    {
     "data": {
      "text/plain": [
       "False"
      ]
     },
     "execution_count": 19,
     "metadata": {},
     "output_type": "execute_result"
    }
   ],
   "source": [
    "allEven([2,3,4,1,2,-2])"
   ]
  },
  {
   "cell_type": "markdown",
   "metadata": {},
   "source": [
    "# 3.11"
   ]
  },
  {
   "cell_type": "code",
   "execution_count": 21,
   "metadata": {},
   "outputs": [
    {
     "name": "stdout",
     "output_type": "stream",
     "text": [
      "-1\n",
      "-3\n",
      "-9\n"
     ]
    }
   ],
   "source": [
    "def negatives(neg_num):\n",
    "#this will take negative value in list and return one per line\n",
    "    for i in neg_num:\n",
    "        if i < 0:\n",
    "            print(i)\n",
    "negatives([4,0,-1,-3,6,-9])"
   ]
  },
  {
   "cell_type": "markdown",
   "metadata": {},
   "source": [
    "# 3.12"
   ]
  },
  {
   "cell_type": "code",
   "execution_count": 23,
   "metadata": {},
   "outputs": [
    {
     "data": {
      "text/plain": [
       "16"
      ]
     },
     "execution_count": 23,
     "metadata": {},
     "output_type": "execute_result"
    }
   ],
   "source": [
    "def f(x,s):\n",
    "    if s=='square':\n",
    "        return x**2\n",
    "    else:\n",
    "        return x**3\n",
    "f(4,'square')\n",
    "    "
   ]
  },
  {
   "cell_type": "markdown",
   "metadata": {},
   "source": [
    "# 3.13"
   ]
  },
  {
   "cell_type": "code",
   "execution_count": 24,
   "metadata": {},
   "outputs": [
    {
     "data": {
      "text/plain": [
       "['sarah', 'eleanor', 'clare', 'ava']"
      ]
     },
     "execution_count": 24,
     "metadata": {},
     "output_type": "execute_result"
    }
   ],
   "source": [
    "def swap_teams(list_team):\n",
    "    list_team[0],list_team[-1] = list_team[-1], list_team[0]\n",
    "    return list_team\n",
    "swap_teams(['ava','eleanor', 'clare', \"sarah\"])"
   ]
  },
  {
   "cell_type": "markdown",
   "metadata": {},
   "source": [
    "# 3.14"
   ]
  },
  {
   "cell_type": "code",
   "execution_count": 25,
   "metadata": {},
   "outputs": [
    {
     "data": {
      "text/plain": [
       "7"
      ]
     },
     "execution_count": 25,
     "metadata": {},
     "output_type": "execute_result"
    }
   ],
   "source": [
    "eval(\"2*3+1\")"
   ]
  },
  {
   "cell_type": "code",
   "execution_count": 26,
   "metadata": {},
   "outputs": [
    {
     "data": {
      "text/plain": [
       "'hello world'"
      ]
     },
     "execution_count": 26,
     "metadata": {},
     "output_type": "execute_result"
    }
   ],
   "source": [
    "eval(\"'hello' + ' ' + 'world'\")"
   ]
  },
  {
   "cell_type": "code",
   "execution_count": 27,
   "metadata": {},
   "outputs": [
    {
     "data": {
      "text/plain": [
       "2"
      ]
     },
     "execution_count": 27,
     "metadata": {},
     "output_type": "execute_result"
    }
   ],
   "source": [
    "eval(\"'ASCII'.count('I')\")"
   ]
  },
  {
   "cell_type": "markdown",
   "metadata": {},
   "source": [
    "# 3.15"
   ]
  },
  {
   "cell_type": "code",
   "execution_count": 28,
   "metadata": {},
   "outputs": [
    {
     "name": "stdout",
     "output_type": "stream",
     "text": [
      "ok\n",
      "ok\n"
     ]
    }
   ],
   "source": [
    "a=3\n",
    "b=4\n",
    "c=5\n",
    "if a<b:\n",
    "    print('ok')\n",
    "if c<b:\n",
    "    print('ok')\n",
    "if a+b==c:\n",
    "    print('ok')\n",
    "if a**2+b**2==c**2:\n",
    "    print('ok')"
   ]
  },
  {
   "cell_type": "markdown",
   "metadata": {},
   "source": [
    "# 3.16"
   ]
  },
  {
   "cell_type": "code",
   "execution_count": 29,
   "metadata": {},
   "outputs": [
    {
     "name": "stdout",
     "output_type": "stream",
     "text": [
      "ok\n",
      "not ok\n",
      "not ok\n",
      "ok\n"
     ]
    }
   ],
   "source": [
    "a=3\n",
    "b=4\n",
    "c=5\n",
    "if a<b:\n",
    "    print('ok')\n",
    "else:\n",
    "    ('not ok')\n",
    "if c<b:\n",
    "    print('ok')\n",
    "else:\n",
    "    print('not ok')\n",
    "if a+b==c:\n",
    "    print('ok')\n",
    "else:\n",
    "    print('not ok')\n",
    "if a**2+b**2==c**2:\n",
    "    print('ok')"
   ]
  },
  {
   "cell_type": "markdown",
   "metadata": {},
   "source": [
    "# 3.17"
   ]
  },
  {
   "cell_type": "code",
   "execution_count": 30,
   "metadata": {},
   "outputs": [
    {
     "name": "stdout",
     "output_type": "stream",
     "text": [
      "Jan\n",
      "Feb\n",
      "Mar\n"
     ]
    }
   ],
   "source": [
    "lst = [\"January\", \"February\", \"March\"]\n",
    "for word in lst:\n",
    "    print(word[:3])"
   ]
  },
  {
   "cell_type": "markdown",
   "metadata": {},
   "source": [
    "# 3.18"
   ]
  },
  {
   "cell_type": "code",
   "execution_count": 31,
   "metadata": {},
   "outputs": [
    {
     "name": "stdout",
     "output_type": "stream",
     "text": [
      "2\t4\t6\t8\t"
     ]
    }
   ],
   "source": [
    "lst = [2, 3, 4, 5, 6, 7, 8, 9]\n",
    "for x in lst:\n",
    "    if x%2 == 0:\n",
    "        print(x,end='\\t')"
   ]
  },
  {
   "cell_type": "markdown",
   "metadata": {},
   "source": [
    "# 3.19"
   ]
  },
  {
   "cell_type": "code",
   "execution_count": 32,
   "metadata": {},
   "outputs": [
    {
     "name": "stdout",
     "output_type": "stream",
     "text": [
      "4\n",
      "8\n"
     ]
    }
   ],
   "source": [
    "lst = [2, 3, 4, 5, 6, 7, 8, 9]\n",
    "for x in lst:\n",
    "    if (x**2)%8 == 0:\n",
    "        print(x)"
   ]
  },
  {
   "cell_type": "markdown",
   "metadata": {},
   "source": [
    "# 3.20"
   ]
  },
  {
   "cell_type": "code",
   "execution_count": 33,
   "metadata": {},
   "outputs": [
    {
     "name": "stdout",
     "output_type": "stream",
     "text": [
      "0 1 0 3 4 5 6 1 0 1 2 3 5 9 13 17 21 "
     ]
    }
   ],
   "source": [
    "for i in range(2):\n",
    "    print(i, end=\" \")\n",
    "for i in range(1):\n",
    "    print(i, end=\" \")\n",
    "for i in range(3,7):\n",
    "    print(i, end= \" \")\n",
    "for i in range(1,2):\n",
    "    print(i, end=\" \")\n",
    "for i in range(4):\n",
    "    print(i, end =\" \")\n",
    "for i in range(5, 22, 4):\n",
    "    print(i, end= \" \")"
   ]
  },
  {
   "cell_type": "code",
   "execution_count": null,
   "metadata": {},
   "outputs": [],
   "source": []
  }
 ],
 "metadata": {
  "kernelspec": {
   "display_name": "Python 3",
   "language": "python",
   "name": "python3"
  },
  "language_info": {
   "codemirror_mode": {
    "name": "ipython",
    "version": 3
   },
   "file_extension": ".py",
   "mimetype": "text/x-python",
   "name": "python",
   "nbconvert_exporter": "python",
   "pygments_lexer": "ipython3",
   "version": "3.7.3"
  }
 },
 "nbformat": 4,
 "nbformat_minor": 2
}
